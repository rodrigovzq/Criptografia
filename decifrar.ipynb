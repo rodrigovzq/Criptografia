{
 "cells": [
  {
   "cell_type": "code",
   "execution_count": 38,
   "metadata": {},
   "outputs": [
    {
     "name": "stdout",
     "output_type": "stream",
     "text": [
      "X\n"
     ]
    }
   ],
   "source": [
    "msj = \"EIMAXLFTGIMMXTGÑGBWIMJILKÑXXMTXMETEXRJLBFXLTNXGZTGÑGBIGOXLWTWXLTXGVÑTEKÑBXLNBXFJIKÑXMXTJILKÑXMBXGNLXXEEIMMXJXEXTGEIMWXOILTGEIMWXTYÑXLT\"\n",
    "\n",
    "\n",
    "letras = 'abcdefghijklmnñopqrstuvwxyz'\n",
    "letras = letras.upper()\n",
    "dict ={}\n",
    "for letra in letras:\n",
    "    dict[letra]=msj.count(letra)\n",
    "\n",
    "letras+=letras\n",
    "\n",
    "print(max(dict,key=dict.get))"
   ]
  },
  {
   "cell_type": "code",
   "execution_count": 42,
   "metadata": {},
   "outputs": [
    {
     "name": "stdout",
     "output_type": "stream",
     "text": [
      "7\n"
     ]
    }
   ],
   "source": [
    "corrimiento = 27-(letras.index(max(dict,key=dict.get))-letras.index('E'))\n",
    "\n",
    "print(corrimiento)"
   ]
  },
  {
   "cell_type": "code",
   "execution_count": 43,
   "metadata": {},
   "outputs": [
    {
     "name": "stdout",
     "output_type": "stream",
     "text": [
      "LOSHERMANOSSEANTUNIDOSPORQTUEESAESLALEYPRIMERATENGANTUNIONVERDADERAENCTUALQTUIERTIEMPOQTUESEAPORQTUESIENTREELLOSSEPELEANLOSDEVORANLOSDEAFTUERA\n"
     ]
    }
   ],
   "source": [
    "deci = ''\n",
    "\n",
    "for l in msj:\n",
    "    try:\n",
    "        deci += letras[letras.index(l)+corrimiento]\n",
    "    except:\n",
    "        deci+='U'\n",
    "\n",
    "print(deci)"
   ]
  }
 ],
 "metadata": {
  "interpreter": {
   "hash": "a0a5145e6c304e2a9afaf5b930a2955b950bd4b81fe94f7c42930f43f42762eb"
  },
  "kernelspec": {
   "display_name": "Python 3.10.1 64-bit",
   "language": "python",
   "name": "python3"
  },
  "language_info": {
   "codemirror_mode": {
    "name": "ipython",
    "version": 3
   },
   "file_extension": ".py",
   "mimetype": "text/x-python",
   "name": "python",
   "nbconvert_exporter": "python",
   "pygments_lexer": "ipython3",
   "version": "3.10.1"
  },
  "orig_nbformat": 4
 },
 "nbformat": 4,
 "nbformat_minor": 2
}
